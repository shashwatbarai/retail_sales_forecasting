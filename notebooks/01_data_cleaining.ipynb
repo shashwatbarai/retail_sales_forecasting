{
 "cells": [
  {
   "cell_type": "markdown",
   "id": "102105a1",
   "metadata": {},
   "source": [
    "# Data Exploration, Cleaning and Preprocessing"
   ]
  },
  {
   "cell_type": "code",
   "execution_count": 1,
   "id": "1e43bfb3",
   "metadata": {},
   "outputs": [],
   "source": [
    "import pandas as pd\n",
    "import numpy as np\n",
    "import matplotlib.pyplot as plt\n",
    "import seaborn as sns"
   ]
  },
  {
   "cell_type": "code",
   "execution_count": 2,
   "id": "ddf25197",
   "metadata": {},
   "outputs": [],
   "source": [
    "# Loading the dataset\n",
    "df = pd.read_csv(r\"d:\\Projects\\Sales_forecasting_reatil_chain\\data\\raw\\Online Retail.csv\")"
   ]
  },
  {
   "cell_type": "code",
   "execution_count": 3,
   "id": "1343f49b",
   "metadata": {},
   "outputs": [],
   "source": [
    "df = df.copy()"
   ]
  },
  {
   "cell_type": "code",
   "execution_count": 4,
   "id": "54b75b64",
   "metadata": {},
   "outputs": [
    {
     "data": {
      "text/html": [
       "<div>\n",
       "<style scoped>\n",
       "    .dataframe tbody tr th:only-of-type {\n",
       "        vertical-align: middle;\n",
       "    }\n",
       "\n",
       "    .dataframe tbody tr th {\n",
       "        vertical-align: top;\n",
       "    }\n",
       "\n",
       "    .dataframe thead th {\n",
       "        text-align: right;\n",
       "    }\n",
       "</style>\n",
       "<table border=\"1\" class=\"dataframe\">\n",
       "  <thead>\n",
       "    <tr style=\"text-align: right;\">\n",
       "      <th></th>\n",
       "      <th>InvoiceNo</th>\n",
       "      <th>StockCode</th>\n",
       "      <th>Description</th>\n",
       "      <th>Quantity</th>\n",
       "      <th>InvoiceDate</th>\n",
       "      <th>UnitPrice</th>\n",
       "      <th>CustomerID</th>\n",
       "      <th>Country</th>\n",
       "    </tr>\n",
       "  </thead>\n",
       "  <tbody>\n",
       "    <tr>\n",
       "      <th>0</th>\n",
       "      <td>536365</td>\n",
       "      <td>85123A</td>\n",
       "      <td>WHITE HANGING HEART T-LIGHT HOLDER</td>\n",
       "      <td>6</td>\n",
       "      <td>12/01/2010 08:26:00</td>\n",
       "      <td>2.55</td>\n",
       "      <td>17850.0</td>\n",
       "      <td>United Kingdom</td>\n",
       "    </tr>\n",
       "    <tr>\n",
       "      <th>1</th>\n",
       "      <td>536365</td>\n",
       "      <td>71053</td>\n",
       "      <td>WHITE METAL LANTERN</td>\n",
       "      <td>6</td>\n",
       "      <td>12/01/2010 08:26:00</td>\n",
       "      <td>3.39</td>\n",
       "      <td>17850.0</td>\n",
       "      <td>United Kingdom</td>\n",
       "    </tr>\n",
       "    <tr>\n",
       "      <th>2</th>\n",
       "      <td>536365</td>\n",
       "      <td>84406B</td>\n",
       "      <td>CREAM CUPID HEARTS COAT HANGER</td>\n",
       "      <td>8</td>\n",
       "      <td>12/01/2010 08:26:00</td>\n",
       "      <td>2.75</td>\n",
       "      <td>17850.0</td>\n",
       "      <td>United Kingdom</td>\n",
       "    </tr>\n",
       "    <tr>\n",
       "      <th>3</th>\n",
       "      <td>536365</td>\n",
       "      <td>84029G</td>\n",
       "      <td>KNITTED UNION FLAG HOT WATER BOTTLE</td>\n",
       "      <td>6</td>\n",
       "      <td>12/01/2010 08:26:00</td>\n",
       "      <td>3.39</td>\n",
       "      <td>17850.0</td>\n",
       "      <td>United Kingdom</td>\n",
       "    </tr>\n",
       "    <tr>\n",
       "      <th>4</th>\n",
       "      <td>536365</td>\n",
       "      <td>84029E</td>\n",
       "      <td>RED WOOLLY HOTTIE WHITE HEART.</td>\n",
       "      <td>6</td>\n",
       "      <td>12/01/2010 08:26:00</td>\n",
       "      <td>3.39</td>\n",
       "      <td>17850.0</td>\n",
       "      <td>United Kingdom</td>\n",
       "    </tr>\n",
       "  </tbody>\n",
       "</table>\n",
       "</div>"
      ],
      "text/plain": [
       "  InvoiceNo StockCode                          Description  Quantity  \\\n",
       "0    536365    85123A   WHITE HANGING HEART T-LIGHT HOLDER         6   \n",
       "1    536365     71053                  WHITE METAL LANTERN         6   \n",
       "2    536365    84406B       CREAM CUPID HEARTS COAT HANGER         8   \n",
       "3    536365    84029G  KNITTED UNION FLAG HOT WATER BOTTLE         6   \n",
       "4    536365    84029E       RED WOOLLY HOTTIE WHITE HEART.         6   \n",
       "\n",
       "           InvoiceDate  UnitPrice  CustomerID         Country  \n",
       "0  12/01/2010 08:26:00       2.55     17850.0  United Kingdom  \n",
       "1  12/01/2010 08:26:00       3.39     17850.0  United Kingdom  \n",
       "2  12/01/2010 08:26:00       2.75     17850.0  United Kingdom  \n",
       "3  12/01/2010 08:26:00       3.39     17850.0  United Kingdom  \n",
       "4  12/01/2010 08:26:00       3.39     17850.0  United Kingdom  "
      ]
     },
     "execution_count": 4,
     "metadata": {},
     "output_type": "execute_result"
    }
   ],
   "source": [
    "df.head()"
   ]
  },
  {
   "cell_type": "code",
   "execution_count": 5,
   "id": "a57f1005",
   "metadata": {},
   "outputs": [
    {
     "data": {
      "text/plain": [
       "(541909, 8)"
      ]
     },
     "execution_count": 5,
     "metadata": {},
     "output_type": "execute_result"
    }
   ],
   "source": [
    "# Checking the shape of the dataset\n",
    "df.shape"
   ]
  },
  {
   "cell_type": "code",
   "execution_count": 6,
   "id": "0107b70a",
   "metadata": {},
   "outputs": [
    {
     "data": {
      "text/plain": [
       "Index(['InvoiceNo', 'StockCode', 'Description', 'Quantity', 'InvoiceDate',\n",
       "       'UnitPrice', 'CustomerID', 'Country'],\n",
       "      dtype='object')"
      ]
     },
     "execution_count": 6,
     "metadata": {},
     "output_type": "execute_result"
    }
   ],
   "source": [
    "# Checking the columns of the dataset\n",
    "df.columns"
   ]
  },
  {
   "cell_type": "code",
   "execution_count": 7,
   "id": "5e331e88",
   "metadata": {},
   "outputs": [
    {
     "name": "stdout",
     "output_type": "stream",
     "text": [
      "<class 'pandas.core.frame.DataFrame'>\n",
      "RangeIndex: 541909 entries, 0 to 541908\n",
      "Data columns (total 8 columns):\n",
      " #   Column       Non-Null Count   Dtype  \n",
      "---  ------       --------------   -----  \n",
      " 0   InvoiceNo    541909 non-null  object \n",
      " 1   StockCode    541909 non-null  object \n",
      " 2   Description  540455 non-null  object \n",
      " 3   Quantity     541909 non-null  int64  \n",
      " 4   InvoiceDate  541909 non-null  object \n",
      " 5   UnitPrice    541909 non-null  float64\n",
      " 6   CustomerID   406829 non-null  float64\n",
      " 7   Country      541909 non-null  object \n",
      "dtypes: float64(2), int64(1), object(5)\n",
      "memory usage: 33.1+ MB\n"
     ]
    }
   ],
   "source": [
    "# Basic information about the dataset\n",
    "df.info()"
   ]
  },
  {
   "cell_type": "code",
   "execution_count": 8,
   "id": "5f97c6b6",
   "metadata": {},
   "outputs": [
    {
     "data": {
      "text/html": [
       "<div>\n",
       "<style scoped>\n",
       "    .dataframe tbody tr th:only-of-type {\n",
       "        vertical-align: middle;\n",
       "    }\n",
       "\n",
       "    .dataframe tbody tr th {\n",
       "        vertical-align: top;\n",
       "    }\n",
       "\n",
       "    .dataframe thead th {\n",
       "        text-align: right;\n",
       "    }\n",
       "</style>\n",
       "<table border=\"1\" class=\"dataframe\">\n",
       "  <thead>\n",
       "    <tr style=\"text-align: right;\">\n",
       "      <th></th>\n",
       "      <th>Quantity</th>\n",
       "      <th>UnitPrice</th>\n",
       "      <th>CustomerID</th>\n",
       "    </tr>\n",
       "  </thead>\n",
       "  <tbody>\n",
       "    <tr>\n",
       "      <th>count</th>\n",
       "      <td>541909.000000</td>\n",
       "      <td>541909.000000</td>\n",
       "      <td>406829.000000</td>\n",
       "    </tr>\n",
       "    <tr>\n",
       "      <th>mean</th>\n",
       "      <td>9.552250</td>\n",
       "      <td>4.611114</td>\n",
       "      <td>15287.690570</td>\n",
       "    </tr>\n",
       "    <tr>\n",
       "      <th>std</th>\n",
       "      <td>218.081158</td>\n",
       "      <td>96.759853</td>\n",
       "      <td>1713.600303</td>\n",
       "    </tr>\n",
       "    <tr>\n",
       "      <th>min</th>\n",
       "      <td>-80995.000000</td>\n",
       "      <td>-11062.060000</td>\n",
       "      <td>12346.000000</td>\n",
       "    </tr>\n",
       "    <tr>\n",
       "      <th>25%</th>\n",
       "      <td>1.000000</td>\n",
       "      <td>1.250000</td>\n",
       "      <td>13953.000000</td>\n",
       "    </tr>\n",
       "    <tr>\n",
       "      <th>50%</th>\n",
       "      <td>3.000000</td>\n",
       "      <td>2.080000</td>\n",
       "      <td>15152.000000</td>\n",
       "    </tr>\n",
       "    <tr>\n",
       "      <th>75%</th>\n",
       "      <td>10.000000</td>\n",
       "      <td>4.130000</td>\n",
       "      <td>16791.000000</td>\n",
       "    </tr>\n",
       "    <tr>\n",
       "      <th>max</th>\n",
       "      <td>80995.000000</td>\n",
       "      <td>38970.000000</td>\n",
       "      <td>18287.000000</td>\n",
       "    </tr>\n",
       "  </tbody>\n",
       "</table>\n",
       "</div>"
      ],
      "text/plain": [
       "            Quantity      UnitPrice     CustomerID\n",
       "count  541909.000000  541909.000000  406829.000000\n",
       "mean        9.552250       4.611114   15287.690570\n",
       "std       218.081158      96.759853    1713.600303\n",
       "min    -80995.000000  -11062.060000   12346.000000\n",
       "25%         1.000000       1.250000   13953.000000\n",
       "50%         3.000000       2.080000   15152.000000\n",
       "75%        10.000000       4.130000   16791.000000\n",
       "max     80995.000000   38970.000000   18287.000000"
      ]
     },
     "execution_count": 8,
     "metadata": {},
     "output_type": "execute_result"
    }
   ],
   "source": [
    "# Summary statistics\n",
    "df.describe()"
   ]
  },
  {
   "cell_type": "code",
   "execution_count": 9,
   "id": "0bc8498b",
   "metadata": {},
   "outputs": [
    {
     "data": {
      "text/plain": [
       "InvoiceNo           0\n",
       "StockCode           0\n",
       "Description      1454\n",
       "Quantity            0\n",
       "InvoiceDate         0\n",
       "UnitPrice           0\n",
       "CustomerID     135080\n",
       "Country             0\n",
       "dtype: int64"
      ]
     },
     "execution_count": 9,
     "metadata": {},
     "output_type": "execute_result"
    }
   ],
   "source": [
    "# Null value count\n",
    "df.isnull().sum()"
   ]
  },
  {
   "cell_type": "code",
   "execution_count": 10,
   "id": "d150d6ee",
   "metadata": {},
   "outputs": [
    {
     "data": {
      "image/png": "[encoded data removed]",
      "text/plain": [
       "<Figure size 640x480 with 1 Axes>"
      ]
     },
     "metadata": {},
     "output_type": "display_data"
    }
   ],
   "source": [
    "# Null value heat map\n",
    "sns.heatmap(df.isnull(), cbar=False, cmap=\"coolwarm\")\n",
    "plt.title(\"Null Values Heatmap\")\n",
    "plt.show()"
   ]
  },
  {
   "cell_type": "code",
   "execution_count": 11,
   "id": "7f154078",
   "metadata": {},
   "outputs": [
    {
     "data": {
      "text/plain": [
       "InvoiceNo      0\n",
       "StockCode      0\n",
       "Description    0\n",
       "Quantity       0\n",
       "InvoiceDate    0\n",
       "UnitPrice      0\n",
       "CustomerID     0\n",
       "Country        0\n",
       "dtype: int64"
      ]
     },
     "execution_count": 11,
     "metadata": {},
     "output_type": "execute_result"
    }
   ],
   "source": [
    "# Dropping the null values from the columns 'Description' and 'CustomerID'\n",
    "df.dropna(subset=['Description', 'CustomerID'], inplace=True)\n",
    "df.isnull().sum()"
   ]
  },
  {
   "cell_type": "code",
   "execution_count": 12,
   "id": "55dc7f7d",
   "metadata": {},
   "outputs": [
    {
     "data": {
      "text/plain": [
       "(406829, 8)"
      ]
     },
     "execution_count": 12,
     "metadata": {},
     "output_type": "execute_result"
    }
   ],
   "source": [
    "df.shape"
   ]
  },
  {
   "cell_type": "code",
   "execution_count": 13,
   "id": "e182d947",
   "metadata": {},
   "outputs": [
    {
     "data": {
      "text/plain": [
       "np.int64(5225)"
      ]
     },
     "execution_count": 13,
     "metadata": {},
     "output_type": "execute_result"
    }
   ],
   "source": [
    "# Count duplicate rows\n",
    "df.duplicated().sum()"
   ]
  },
  {
   "cell_type": "code",
   "execution_count": 14,
   "id": "3642743a",
   "metadata": {},
   "outputs": [
    {
     "data": {
      "text/plain": [
       "np.int64(0)"
      ]
     },
     "execution_count": 14,
     "metadata": {},
     "output_type": "execute_result"
    }
   ],
   "source": [
    "# Dropping duplicate rows\n",
    "df = df.drop_duplicates()\n",
    "df.duplicated().sum()"
   ]
  },
  {
   "cell_type": "code",
   "execution_count": 15,
   "id": "c69425f8",
   "metadata": {},
   "outputs": [
    {
     "data": {
      "text/plain": [
       "(401604, 8)"
      ]
     },
     "execution_count": 15,
     "metadata": {},
     "output_type": "execute_result"
    }
   ],
   "source": [
    "df.shape"
   ]
  },
  {
   "cell_type": "code",
   "execution_count": 16,
   "id": "6f6df228",
   "metadata": {},
   "outputs": [
    {
     "data": {
      "text/plain": [
       "InvoiceNo      22190\n",
       "StockCode       3684\n",
       "Description     3896\n",
       "Quantity         436\n",
       "InvoiceDate    20460\n",
       "UnitPrice        620\n",
       "CustomerID      4372\n",
       "Country           37\n",
       "dtype: int64"
      ]
     },
     "execution_count": 16,
     "metadata": {},
     "output_type": "execute_result"
    }
   ],
   "source": [
    "# Number of unique values accross columns\n",
    "df.nunique()"
   ]
  },
  {
   "cell_type": "code",
   "execution_count": null,
   "id": "9f38f152",
   "metadata": {},
   "outputs": [
    {
     "name": "stdout",
     "output_type": "stream",
     "text": [
      "<class 'pandas.core.frame.DataFrame'>\n",
      "Index: 401604 entries, 0 to 541908\n",
      "Data columns (total 8 columns):\n",
      " #   Column       Non-Null Count   Dtype         \n",
      "---  ------       --------------   -----         \n",
      " 0   InvoiceNo    401604 non-null  object        \n",
      " 1   StockCode    401604 non-null  object        \n",
      " 2   Description  401604 non-null  object        \n",
      " 3   Quantity     401604 non-null  int64         \n",
      " 4   InvoiceDate  401604 non-null  datetime64[ns]\n",
      " 5   UnitPrice    401604 non-null  float64       \n",
      " 6   CustomerID   401604 non-null  object        \n",
      " 7   Country      401604 non-null  category      \n",
      "dtypes: category(1), datetime64[ns](1), float64(1), int64(1), object(4)\n",
      "memory usage: 24.9+ MB\n"
     ]
    }
   ],
   "source": [
    "# Converting to date time\n",
    "df['InvoiceDate'] = pd.to_datetime(df['InvoiceDate'])\n",
    "\n",
    "# Converting to valid data type for grouping \n",
    "df['CustomerID'] = df['CustomerID'].astype('str') \n",
    "\n",
    "# Converting to cateforical data types\n",
    "df['Country'] = df['Country'].astype('category')\n",
    "\n",
    "df.info()"
   ]
  },
  {
   "cell_type": "code",
   "execution_count": 18,
   "id": "a9fcc361",
   "metadata": {},
   "outputs": [
    {
     "name": "stdout",
     "output_type": "stream",
     "text": [
      "       InvoiceNo StockCode                       Description  Quantity  \\\n",
      "141      C536379         D                          Discount        -1   \n",
      "154      C536383    35004C   SET OF 3 COLOURED  FLYING DUCKS        -1   \n",
      "235      C536391     22556    PLASTERS IN TIN CIRCUS PARADE        -12   \n",
      "236      C536391     21984  PACK OF 12 PINK PAISLEY TISSUES        -24   \n",
      "237      C536391     21983  PACK OF 12 BLUE PAISLEY TISSUES        -24   \n",
      "...          ...       ...                               ...       ...   \n",
      "540449   C581490     23144   ZINC T-LIGHT HOLDER STARS SMALL       -11   \n",
      "541541   C581499         M                            Manual        -1   \n",
      "541715   C581568     21258        VICTORIAN SEWING BOX LARGE        -5   \n",
      "541716   C581569     84978  HANGING HEART JAR T-LIGHT HOLDER        -1   \n",
      "541717   C581569     20979     36 PENCILS TUBE RED RETROSPOT        -5   \n",
      "\n",
      "               InvoiceDate  UnitPrice CustomerID         Country  \n",
      "141    2010-12-01 09:41:00      27.50    14527.0  United Kingdom  \n",
      "154    2010-12-01 09:49:00       4.65    15311.0  United Kingdom  \n",
      "235    2010-12-01 10:24:00       1.65    17548.0  United Kingdom  \n",
      "236    2010-12-01 10:24:00       0.29    17548.0  United Kingdom  \n",
      "237    2010-12-01 10:24:00       0.29    17548.0  United Kingdom  \n",
      "...                    ...        ...        ...             ...  \n",
      "540449 2011-12-09 09:57:00       0.83    14397.0  United Kingdom  \n",
      "541541 2011-12-09 10:28:00     224.69    15498.0  United Kingdom  \n",
      "541715 2011-12-09 11:57:00      10.95    15311.0  United Kingdom  \n",
      "541716 2011-12-09 11:58:00       1.25    17315.0  United Kingdom  \n",
      "541717 2011-12-09 11:58:00       1.25    17315.0  United Kingdom  \n",
      "\n",
      "[8872 rows x 8 columns]\n",
      "       InvoiceNo StockCode                          Description  Quantity  \\\n",
      "9302      537197     22841         ROUND CAKE TIN VINTAGE GREEN         1   \n",
      "33576     539263     22580         ADVENT CALENDAR GINGHAM SACK         4   \n",
      "40089     539722     22423             REGENCY CAKESTAND 3 TIER        10   \n",
      "47068     540372     22090              PAPER BUNTING RETROSPOT        24   \n",
      "47070     540372     22553               PLASTERS IN TIN SKULLS        24   \n",
      "56674     541109     22168        ORGANISER WOOD ANTIQUE WHITE          1   \n",
      "86789     543599    84535B         FAIRY CAKES NOTEBOOK A6 SIZE        16   \n",
      "130188    547417     22062  CERAMIC BOWL WITH LOVE HEART DESIGN        36   \n",
      "139453    548318     22055   MINI CAKE STAND  HANGING STRAWBERY         5   \n",
      "145208    548871     22162          HEART GARLAND RUSTIC PADDED         2   \n",
      "157042    550188     22636   CHILDS BREAKFAST SET CIRCUS PARADE         1   \n",
      "187613    553000     47566                        PARTY BUNTING         4   \n",
      "198383    554037     22619            SET OF 6 SOLDIER SKITTLES        80   \n",
      "279324    561284     22167           OVAL WALL MIRROR DIAMANTE          1   \n",
      "282912    561669     22960             JAM MAKING SET WITH JARS        11   \n",
      "285657    561916         M                               Manual         1   \n",
      "298054    562973     23157           SET OF 6 NATIVITY MAGNETS        240   \n",
      "314745    564651     23270     SET OF 2 CERAMIC PAINTED HEARTS         96   \n",
      "314746    564651     23268  SET OF 2 CERAMIC CHRISTMAS REINDEER       192   \n",
      "314747    564651     22955             36 FOIL STAR CAKE CASES        144   \n",
      "314748    564651     21786                   POLKADOT RAIN HAT        144   \n",
      "358655    568158      PADS           PADS TO MATCH ALL CUSHIONS         1   \n",
      "361825    568384         M                               Manual         1   \n",
      "379913    569716     22778                   GLASS CLOCHE SMALL         2   \n",
      "395529    571035         M                               Manual         1   \n",
      "420404    572893     21208          PASTEL COLOUR HONEYCOMB FAN         5   \n",
      "436428    574138     23234        BISCUIT TIN VINTAGE CHRISTMAS       216   \n",
      "436597    574175     22065       CHRISTMAS PUDDING TRINKET POT         12   \n",
      "436961    574252         M                               Manual         1   \n",
      "439361    574469     22385            JUMBO BAG SPACEBOY DESIGN        12   \n",
      "446125    574879     22625                   RED KITCHEN SCALES         2   \n",
      "446793    574920     22899         CHILDREN'S APRON DOLLY GIRL          1   \n",
      "446794    574920     23480       MINI LIGHTS WOODLAND MUSHROOMS         1   \n",
      "454463    575579     22437        SET OF 9 BLACK SKULL BALLOONS        20   \n",
      "454464    575579     22089        PAPER BUNTING VINTAGE PAISLEY        24   \n",
      "479079    577129     22464          HANGING METAL HEART LANTERN         4   \n",
      "479546    577168         M                               Manual         1   \n",
      "480649    577314     23407       SET OF 2 TRAYS HOME SWEET HOME         2   \n",
      "485985    577696         M                               Manual         1   \n",
      "502122    578841     84826       ASSTD DESIGN 3D PAPER STICKERS     12540   \n",
      "\n",
      "               InvoiceDate  UnitPrice CustomerID         Country  \n",
      "9302   2010-12-05 14:02:00        0.0    12647.0         Germany  \n",
      "33576  2010-12-16 14:36:00        0.0    16560.0  United Kingdom  \n",
      "40089  2010-12-21 13:45:00        0.0    14911.0            EIRE  \n",
      "47068  2011-01-06 16:41:00        0.0    13081.0  United Kingdom  \n",
      "47070  2011-01-06 16:41:00        0.0    13081.0  United Kingdom  \n",
      "56674  2011-01-13 15:10:00        0.0    15107.0  United Kingdom  \n",
      "86789  2011-02-10 13:08:00        0.0    17560.0  United Kingdom  \n",
      "130188 2011-03-23 10:25:00        0.0    13239.0  United Kingdom  \n",
      "139453 2011-03-30 12:45:00        0.0    13113.0  United Kingdom  \n",
      "145208 2011-04-04 14:42:00        0.0    14410.0  United Kingdom  \n",
      "157042 2011-04-14 18:57:00        0.0    12457.0     Switzerland  \n",
      "187613 2011-05-12 15:21:00        0.0    17667.0  United Kingdom  \n",
      "198383 2011-05-20 14:13:00        0.0    12415.0       Australia  \n",
      "279324 2011-07-26 12:24:00        0.0    16818.0  United Kingdom  \n",
      "282912 2011-07-28 17:09:00        0.0    12507.0           Spain  \n",
      "285657 2011-08-01 11:44:00        0.0    15581.0  United Kingdom  \n",
      "298054 2011-08-11 11:42:00        0.0    14911.0            EIRE  \n",
      "314745 2011-08-26 14:19:00        0.0    14646.0     Netherlands  \n",
      "314746 2011-08-26 14:19:00        0.0    14646.0     Netherlands  \n",
      "314747 2011-08-26 14:19:00        0.0    14646.0     Netherlands  \n",
      "314748 2011-08-26 14:19:00        0.0    14646.0     Netherlands  \n",
      "358655 2011-09-25 12:22:00        0.0    16133.0  United Kingdom  \n",
      "361825 2011-09-27 09:46:00        0.0    12748.0  United Kingdom  \n",
      "379913 2011-10-06 08:17:00        0.0    15804.0  United Kingdom  \n",
      "395529 2011-10-13 12:50:00        0.0    12446.0             RSA  \n",
      "420404 2011-10-26 14:36:00        0.0    18059.0  United Kingdom  \n",
      "436428 2011-11-03 11:26:00        0.0    12415.0       Australia  \n",
      "436597 2011-11-03 11:47:00        0.0    14110.0  United Kingdom  \n",
      "436961 2011-11-03 13:24:00        0.0    12437.0          France  \n",
      "439361 2011-11-04 11:55:00        0.0    12431.0       Australia  \n",
      "446125 2011-11-07 13:22:00        0.0    13014.0  United Kingdom  \n",
      "446793 2011-11-07 16:34:00        0.0    13985.0  United Kingdom  \n",
      "446794 2011-11-07 16:34:00        0.0    13985.0  United Kingdom  \n",
      "454463 2011-11-10 11:49:00        0.0    13081.0  United Kingdom  \n",
      "454464 2011-11-10 11:49:00        0.0    13081.0  United Kingdom  \n",
      "479079 2011-11-17 19:52:00        0.0    15602.0  United Kingdom  \n",
      "479546 2011-11-18 10:42:00        0.0    12603.0         Germany  \n",
      "480649 2011-11-18 13:23:00        0.0    12444.0          Norway  \n",
      "485985 2011-11-21 11:57:00        0.0    16406.0  United Kingdom  \n",
      "502122 2011-11-25 15:57:00        0.0    13256.0  United Kingdom  \n"
     ]
    }
   ],
   "source": [
    "# Check for negative or zero values in 'Quantity' and 'Price'\n",
    "print(df[df['Quantity'] <= 0])\n",
    "print(df[df['UnitPrice'] <= 0])"
   ]
  },
  {
   "cell_type": "code",
   "execution_count": 19,
   "id": "e9c559bf",
   "metadata": {},
   "outputs": [
    {
     "data": {
      "text/html": [
       "<div>\n",
       "<style scoped>\n",
       "    .dataframe tbody tr th:only-of-type {\n",
       "        vertical-align: middle;\n",
       "    }\n",
       "\n",
       "    .dataframe tbody tr th {\n",
       "        vertical-align: top;\n",
       "    }\n",
       "\n",
       "    .dataframe thead th {\n",
       "        text-align: right;\n",
       "    }\n",
       "</style>\n",
       "<table border=\"1\" class=\"dataframe\">\n",
       "  <thead>\n",
       "    <tr style=\"text-align: right;\">\n",
       "      <th></th>\n",
       "      <th>InvoiceNo</th>\n",
       "      <th>StockCode</th>\n",
       "      <th>Description</th>\n",
       "      <th>Quantity</th>\n",
       "      <th>InvoiceDate</th>\n",
       "      <th>UnitPrice</th>\n",
       "      <th>CustomerID</th>\n",
       "      <th>Country</th>\n",
       "      <th>InvoiceYearMonth</th>\n",
       "      <th>Year</th>\n",
       "      <th>MonthName</th>\n",
       "      <th>DayOfWeek</th>\n",
       "      <th>Hour</th>\n",
       "      <th>TotalPrice</th>\n",
       "    </tr>\n",
       "  </thead>\n",
       "  <tbody>\n",
       "    <tr>\n",
       "      <th>0</th>\n",
       "      <td>536365</td>\n",
       "      <td>85123A</td>\n",
       "      <td>WHITE HANGING HEART T-LIGHT HOLDER</td>\n",
       "      <td>6</td>\n",
       "      <td>2010-12-01 08:26:00</td>\n",
       "      <td>2.55</td>\n",
       "      <td>17850.0</td>\n",
       "      <td>United Kingdom</td>\n",
       "      <td>2010-12</td>\n",
       "      <td>2010</td>\n",
       "      <td>December</td>\n",
       "      <td>Wednesday</td>\n",
       "      <td>8</td>\n",
       "      <td>15.30</td>\n",
       "    </tr>\n",
       "    <tr>\n",
       "      <th>1</th>\n",
       "      <td>536365</td>\n",
       "      <td>71053</td>\n",
       "      <td>WHITE METAL LANTERN</td>\n",
       "      <td>6</td>\n",
       "      <td>2010-12-01 08:26:00</td>\n",
       "      <td>3.39</td>\n",
       "      <td>17850.0</td>\n",
       "      <td>United Kingdom</td>\n",
       "      <td>2010-12</td>\n",
       "      <td>2010</td>\n",
       "      <td>December</td>\n",
       "      <td>Wednesday</td>\n",
       "      <td>8</td>\n",
       "      <td>20.34</td>\n",
       "    </tr>\n",
       "    <tr>\n",
       "      <th>2</th>\n",
       "      <td>536365</td>\n",
       "      <td>84406B</td>\n",
       "      <td>CREAM CUPID HEARTS COAT HANGER</td>\n",
       "      <td>8</td>\n",
       "      <td>2010-12-01 08:26:00</td>\n",
       "      <td>2.75</td>\n",
       "      <td>17850.0</td>\n",
       "      <td>United Kingdom</td>\n",
       "      <td>2010-12</td>\n",
       "      <td>2010</td>\n",
       "      <td>December</td>\n",
       "      <td>Wednesday</td>\n",
       "      <td>8</td>\n",
       "      <td>22.00</td>\n",
       "    </tr>\n",
       "    <tr>\n",
       "      <th>3</th>\n",
       "      <td>536365</td>\n",
       "      <td>84029G</td>\n",
       "      <td>KNITTED UNION FLAG HOT WATER BOTTLE</td>\n",
       "      <td>6</td>\n",
       "      <td>2010-12-01 08:26:00</td>\n",
       "      <td>3.39</td>\n",
       "      <td>17850.0</td>\n",
       "      <td>United Kingdom</td>\n",
       "      <td>2010-12</td>\n",
       "      <td>2010</td>\n",
       "      <td>December</td>\n",
       "      <td>Wednesday</td>\n",
       "      <td>8</td>\n",
       "      <td>20.34</td>\n",
       "    </tr>\n",
       "    <tr>\n",
       "      <th>4</th>\n",
       "      <td>536365</td>\n",
       "      <td>84029E</td>\n",
       "      <td>RED WOOLLY HOTTIE WHITE HEART.</td>\n",
       "      <td>6</td>\n",
       "      <td>2010-12-01 08:26:00</td>\n",
       "      <td>3.39</td>\n",
       "      <td>17850.0</td>\n",
       "      <td>United Kingdom</td>\n",
       "      <td>2010-12</td>\n",
       "      <td>2010</td>\n",
       "      <td>December</td>\n",
       "      <td>Wednesday</td>\n",
       "      <td>8</td>\n",
       "      <td>20.34</td>\n",
       "    </tr>\n",
       "  </tbody>\n",
       "</table>\n",
       "</div>"
      ],
      "text/plain": [
       "  InvoiceNo StockCode                          Description  Quantity  \\\n",
       "0    536365    85123A   WHITE HANGING HEART T-LIGHT HOLDER         6   \n",
       "1    536365     71053                  WHITE METAL LANTERN         6   \n",
       "2    536365    84406B       CREAM CUPID HEARTS COAT HANGER         8   \n",
       "3    536365    84029G  KNITTED UNION FLAG HOT WATER BOTTLE         6   \n",
       "4    536365    84029E       RED WOOLLY HOTTIE WHITE HEART.         6   \n",
       "\n",
       "          InvoiceDate  UnitPrice CustomerID         Country InvoiceYearMonth  \\\n",
       "0 2010-12-01 08:26:00       2.55    17850.0  United Kingdom          2010-12   \n",
       "1 2010-12-01 08:26:00       3.39    17850.0  United Kingdom          2010-12   \n",
       "2 2010-12-01 08:26:00       2.75    17850.0  United Kingdom          2010-12   \n",
       "3 2010-12-01 08:26:00       3.39    17850.0  United Kingdom          2010-12   \n",
       "4 2010-12-01 08:26:00       3.39    17850.0  United Kingdom          2010-12   \n",
       "\n",
       "   Year MonthName  DayOfWeek  Hour  TotalPrice  \n",
       "0  2010  December  Wednesday     8       15.30  \n",
       "1  2010  December  Wednesday     8       20.34  \n",
       "2  2010  December  Wednesday     8       22.00  \n",
       "3  2010  December  Wednesday     8       20.34  \n",
       "4  2010  December  Wednesday     8       20.34  "
      ]
     },
     "execution_count": 19,
     "metadata": {},
     "output_type": "execute_result"
    }
   ],
   "source": [
    "# Extracting date components\n",
    "df['InvoiceYearMonth'] = df['InvoiceDate'].dt.to_period('M')\n",
    "df['Year'] = df['InvoiceDate'].dt.year\n",
    "df['MonthName'] = df['InvoiceDate'].dt.strftime('%B')\n",
    "df['DayOfWeek'] = df['InvoiceDate'].dt.day_name()\n",
    "df['Hour'] = df['InvoiceDate'].dt.hour\n",
    "\n",
    "# Creating new feature of Total Price\n",
    "df['TotalPrice'] = df['Quantity'] * df['UnitPrice']\n",
    "\n",
    "# Check the new columns\n",
    "df.head()"
   ]
  },
  {
   "cell_type": "code",
   "execution_count": 20,
   "id": "36f1668a",
   "metadata": {},
   "outputs": [],
   "source": [
    "# Saving a seperate dataset for sales forecasting\n",
    "df.to_csv(r\"d:\\Projects\\Sales_forecasting_reatil_chain\\data\\cleaned\\online_retail.csv\", index=False)"
   ]
  },
  {
   "cell_type": "markdown",
   "id": "68cee98a",
   "metadata": {},
   "source": [
    "### Summary of Dataset Exploration, Cleaning and Preprocessing \n",
    "1. Loaded the dataset and checked its basic structure, number of columns, their contents and data types\n",
    "2. Checked and removed null values after analyzing them via heatmaps where in the <b>customer_ID</b> column had the most number of null values with some also being there in <b>description</b> column.\n",
    "3. Checked and dropped the rows with duplicate values.\n",
    "4. Checked for unique values present in each and every column.\n",
    "5. Converted <b>CustomerID</b> to string and <b>Country</b> column to categorical for grouping.\n",
    "4. Checked for the number of values that are 0 or less than 0 in the <b>Quantity</b> and <b>Unit Price</b> column with negative value in quantity suggesting return of product.\n",
    "4. Extracted the date components from the column <b>InvoiceDate</b> and created a new column of <b>Total Price</b>.\n",
    "5. Saved the cleaned data into a new csv file."
   ]
  }
 ],
 "metadata": {
  "kernelspec": {
   "display_name": "Python 3",
   "language": "python",
   "name": "python3"
  },
  "language_info": {
   "codemirror_mode": {
    "name": "ipython",
    "version": 3
   },
   "file_extension": ".py",
   "mimetype": "text/x-python",
   "name": "python",
   "nbconvert_exporter": "python",
   "pygments_lexer": "ipython3",
   "version": "3.11.4"
  }
 },
 "nbformat": 4,
 "nbformat_minor": 5
}
